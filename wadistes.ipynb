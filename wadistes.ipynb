{
 "cells": [
  {
   "cell_type": "markdown",
   "id": "3487f67d",
   "metadata": {},
   "source": [
    "tes ges\n",
    "hehe\n"
   ]
  }
 ],
 "metadata": {
  "language_info": {
   "name": "python"
  }
 },
 "nbformat": 4,
 "nbformat_minor": 5
}
